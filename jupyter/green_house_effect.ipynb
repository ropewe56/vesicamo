{
 "cells": [
  {
   "cell_type": "code",
   "execution_count": 1,
   "metadata": {},
   "outputs": [],
   "source": [
    "import pint\n",
    "u = pint.UnitRegistry()\n",
    "pint.UnitRegistry(system='mks')\n",
    "import numpy as np\n",
    "import os"
   ]
  },
  {
   "cell_type": "markdown",
   "metadata": {},
   "source": [
    "# Simple Greenhouse Earth Model\n",
    "\n",
    "1. Earth without athmosphere\n",
    "2. Totally absorbing layer"
   ]
  },
  {
   "cell_type": "markdown",
   "metadata": {},
   "source": [
    "### 1 Earth without Athmosphere"
   ]
  },
  {
   "cell_type": "markdown",
   "metadata": {},
   "source": [
    "#### Flux from the Sun the Earth\n",
    "\n",
    "The radiation from the sun that reaches the earth is given by solar constant $I_{sun} = 1367 W/m^2$ and the earth cross section $\\pi R^2$.  The earth reflects part of this radiation. The spherical earth albedo is $a = 0.3$. The flux from the sun that reaches the earth surface is thus given by $E_{in} = I_{sun} \\pi R^2 (1 - a)$. In stationary state the earth has to emit an equal amount of radiation back to space. The radiation flux is given by $E_{out} = \\sigma T_s^4 4 \\pi R^2$ with $T_s$ the earth surface temperature. $\\sigma$ is the Stefan-Bltzmann constant. With $E_{out} = E_{in}$ we get:   "
   ]
  },
  {
   "cell_type": "code",
   "execution_count": 60,
   "metadata": {},
   "outputs": [
    {
     "name": "stdout",
     "output_type": "stream",
     "text": [
      "I_out = 2.39e+02 watt / meter ** 2\n",
      "T_s   = 2.55e+02 kelvin\n"
     ]
    }
   ],
   "source": [
    "σ     = 5.670374419e-8 * u.W/(u.m**2 * u.K**4)\n",
    "I_sun = 1367.0 * u.W / u.m**2\n",
    "a     = 0.3\n",
    "I_out = I_sun / 4 * (1.0 - a) \n",
    "T_s   = (I_out/σ)**(1/4)\n",
    "\n",
    "print('I_out = {:.2e}'.format((I_out).to('W/m**2')))\n",
    "print('T_s   = {:.2e}'.format((T_s).to('K')))"
   ]
  },
  {
   "cell_type": "markdown",
   "metadata": {},
   "source": [
    "### 2 Radiation Absorbing Layer\n",
    "\n",
    "Now we assume there is a layer that absorbs all the radiation coming from the earth surface. We assume the heat conductivity to be large so that the temperature is almost equal on both sides of the layer. The radiation emitted from the upper side of the layer has to be $E_{out}$. The layer emits the same amount of radiation down to the earth. The net flux fro the earth to the absorbing laer has to be $E_{out}$, so that the flux from the earth surface upward has to be $2 E_{out}$. Thus the surface temperature has to be $T_{s} = (2 E_{out}/\\sigma)^{1/4}$. "
   ]
  },
  {
   "cell_type": "markdown",
   "metadata": {},
   "source": [
    "<div> <img src=\"energy_balance.png\" width=400> </div>\n",
    "Schematic drawing of the energy fluxes of the earth without atmosphere an the left side and the earth with an absobing layer on the right side. The surface temperature without atmosphere is $T_s = 255 K$ and with the absorbing layer $T_s = 303 K$."
   ]
  },
  {
   "cell_type": "code",
   "execution_count": 62,
   "metadata": {},
   "outputs": [
    {
     "name": "stdout",
     "output_type": "stream",
     "text": [
      "T = 3.03e+02 kelvin\n"
     ]
    }
   ],
   "source": [
    "T = (2*I_out/σ)**(1/4)\n",
    "print('T = {:.2e}'.format((T).to('K')))"
   ]
  },
  {
   "cell_type": "markdown",
   "metadata": {},
   "source": [
    "This simple model shows how the greenhouse effect leads to an increase of the surface temperature. \n"
   ]
  },
  {
   "cell_type": "markdown",
   "metadata": {},
   "source": [
    "## Second Law of Thermodynamics\n",
    "\n",
    "The second law of thermodynamics states that in a closed system $dS \\ge 0$, widt $S$ the entropy of the system. This implies for example that in a closed system net heat flow is from high temperature regions to low temperature regions. Applied to the above system it follows:\n",
    "\n",
    " 1. The system is not closed. Energy from the sun is absorbed and energy is emtitted into space. \n",
    " 2. There is no net heat flux from cold to warm regions.\n",
    " \n",
    "The absorbing layer does not heat the \"earth\" surface, both are heated by the sun and cooled by the outer space.\n",
    "\n"
   ]
  }
 ],
 "metadata": {
  "kernelspec": {
   "display_name": "Python 3",
   "language": "python",
   "name": "python3"
  },
  "language_info": {
   "codemirror_mode": {
    "name": "ipython",
    "version": 3
   },
   "file_extension": ".py",
   "mimetype": "text/x-python",
   "name": "python",
   "nbconvert_exporter": "python",
   "pygments_lexer": "ipython3",
   "version": "3.7.3"
  }
 },
 "nbformat": 4,
 "nbformat_minor": 2
}
