{
 "cells": [
  {
   "cell_type": "code",
   "execution_count": 1,
   "metadata": {},
   "outputs": [],
   "source": [
    "import pint\n",
    "#u = pint.UnitRegistry()\n",
    "#pint.UnitRegistry(system='mks')\n",
    "from numpy import pi\n",
    "from natural_constants import *"
   ]
  },
  {
   "cell_type": "markdown",
   "metadata": {},
   "source": [
    "# Simple Greenhouse Earth Model\n",
    "\n",
    "This simple model is only intended to illustrate the basic functioning of the greenhouse effect. The absolute values of the surface temperature is only a rough guide to the values calculated in the much more detailed and sophisticated climate research models."
   ]
  },
  {
   "cell_type": "markdown",
   "metadata": {},
   "source": [
    "### 1 Without Absorption in the Athmosphere"
   ]
  },
  {
   "cell_type": "markdown",
   "metadata": {},
   "source": [
    "The radiation from the sun that reaches the earth is given by the solar constant:\n",
    "\n",
    "$S_c = 1367 W/m^2$ \n",
    "\n",
    "and the earth cross section:\n",
    "\n",
    "$\\pi R^2$  \n",
    "\n",
    "The earth reflects part of this radiation, the spherical earth albedo is $a = 0.3$. \n",
    "\n",
    "The flux from the sun that reaches the earth surface is thus given by:\n",
    "\n",
    "$F_{in} = S_c (1 - a) \\; \\pi R^2$. \n",
    "\n",
    "In stationary state the earth has to emit an equal amount of infrared radiation back to space. The radiation flux is \n",
    "given by:\n",
    "\n",
    "$F_{out} = \\sigma T_s^4 \\; 4 \\pi R^2$ \n",
    "\n",
    "with the earth surface temperature $T_s$ and the Stefan-Bltzmann constant $\\sigma$. With $F_{out} = F_{in}$ the surface temperature is:   \n",
    "\n",
    "$T_s = \\left(\\dfrac{S_c(1-a)}{4 \\sigma}\\right)^{1/4}$\n",
    "\n",
    "The intensity (flux per area) radiated into space is:\n",
    "\n",
    "$I_{out} = \\sigma T_s^4 = \\dfrac{S_c(1-a)}{4}$ "
   ]
  },
  {
   "cell_type": "code",
   "execution_count": 10,
   "metadata": {},
   "outputs": [
    {
     "name": "stdout",
     "output_type": "stream",
     "text": [
      "T_s   = 2.55e+02 kelvin\n",
      "I_out = 2.39e+02 watt / meter ** 2\n"
     ]
    }
   ],
   "source": [
    "S_c   = 1367.0  * u.W / u.m**2\n",
    "a     = 0.3\n",
    "T_s   = (S_c * (1.0 - a) / (4*u_σ))**(1/4)\n",
    "I_out = u_σ * T_s**4\n",
    "\n",
    "print('T_s   = {:.2e}'.format((T_s).to('K')))\n",
    "print('I_out = {:.2e}'.format((I_out).to('W/m**2')))\n"
   ]
  },
  {
   "cell_type": "code",
   "execution_count": 9,
   "metadata": {},
   "outputs": [
    {
     "data": {
      "text/html": [
       "254.85825586039 kelvin"
      ],
      "text/latex": [
       "$254.85825586039\\ \\mathrm{kelvin}$"
      ],
      "text/plain": [
       "254.85825586039 <Unit('kelvin')>"
      ]
     },
     "execution_count": 9,
     "metadata": {},
     "output_type": "execute_result"
    }
   ],
   "source": [
    "T_s"
   ]
  },
  {
   "cell_type": "markdown",
   "metadata": {},
   "source": [
    "### 2 With Totally Absorbing Layer  in the Athmosphere\n",
    "\n",
    "Now we assume there is a layer that absorbs all the radiation coming from the earth surface. We assume the heat conductivity within the layer to be large so that the temperature is almost equal on both sides of the layer. The intensity of the radiation emitted from the upper side of the layer has to be $I_{out}$. The layer emits the same amount of radiation down to the earth. The net flux from the earth to the absorbing layer has to be $I_{out}$, so that the flux from the earth surface upward has to be $2 I_{out}$. Thus the surface temperature has to be: \n",
    "\n",
    "$T_{sl} = \\left( \\dfrac{2 I_{out}}{\\sigma}\\right)^{1/4} = 2^{1/4}  T_{s}\\approx 1.2\\; T_{s}$"
   ]
  },
  {
   "cell_type": "code",
   "execution_count": 11,
   "metadata": {},
   "outputs": [
    {
     "name": "stdout",
     "output_type": "stream",
     "text": [
      "T = 3.03e+02 kelvin\n"
     ]
    }
   ],
   "source": [
    "T_sl = (2*I_out/u_σ)**(1/4)\n",
    "print('T = {:.2e}'.format((T_sl).to('K')))"
   ]
  },
  {
   "cell_type": "markdown",
   "metadata": {},
   "source": [
    "<div> <img src=\"figures/energy_balance.png\" width=400> </div>\n",
    "Schematic drawing of the energy fluxes of the earth without atmosphere an the left side and the earth with an absobing layer on the right side. "
   ]
  },
  {
   "cell_type": "markdown",
   "metadata": {},
   "source": [
    "The surface temperature without absorption in the atmosphere is $T_s = 255 K$ and with the absorbing layer $T_s = 303 K$. The layer temperature is \n",
    "$255 K$."
   ]
  }
 ],
 "metadata": {
  "kernelspec": {
   "display_name": "Python 3 (ipykernel)",
   "language": "python",
   "name": "python3"
  },
  "language_info": {
   "codemirror_mode": {
    "name": "ipython",
    "version": 3
   },
   "file_extension": ".py",
   "mimetype": "text/x-python",
   "name": "python",
   "nbconvert_exporter": "python",
   "pygments_lexer": "ipython3",
   "version": "3.10.8 | packaged by conda-forge | (main, Nov 22 2022, 08:26:04) [GCC 10.4.0]"
  },
  "vscode": {
   "interpreter": {
    "hash": "c019b74cd224d85dcc20dbd653d427917d501a9e8bc07d353a2be15603bb1cab"
   }
  }
 },
 "nbformat": 4,
 "nbformat_minor": 4
}
