{
 "cells": [
  {
   "cell_type": "code",
   "execution_count": 1,
   "metadata": {},
   "outputs": [],
   "source": [
    "from numpy import *\n",
    "from pylab import plt\n",
    "from natural_constants import *"
   ]
  },
  {
   "cell_type": "markdown",
   "metadata": {},
   "source": [
    "### Physical Constants"
   ]
  },
  {
   "cell_type": "code",
   "execution_count": 2,
   "metadata": {},
   "outputs": [],
   "source": [
    "T0 = u_T0\n",
    "Sc = solar_const"
   ]
  },
  {
   "cell_type": "markdown",
   "metadata": {},
   "source": [
    "### Stefan-Boltzmann Law"
   ]
  },
  {
   "cell_type": "code",
   "execution_count": 3,
   "metadata": {},
   "outputs": [],
   "source": [
    "def SB_P(T):\n",
    "    \"\"\"P(T)\"\"\"\n",
    "    return SB * T**4\n",
    "\n",
    "def SB_T(P):\n",
    "    \"\"\"T(P)\"\"\"\n",
    "    T2 = sqrt(P/SB)\n",
    "    T4 = sqrt(T2)\n",
    "    return T4"
   ]
  },
  {
   "cell_type": "markdown",
   "metadata": {},
   "source": [
    "### Earth Data"
   ]
  },
  {
   "cell_type": "code",
   "execution_count": 4,
   "metadata": {},
   "outputs": [],
   "source": [
    "RE = earth_radius\n",
    "AE = 4.0 * pi * RE**2     # m^2     earth surface\n",
    "AC = pi * RE**2           # m^2     earth cross section\n",
    "a  = 0.3                  #         aerth albedo"
   ]
  },
  {
   "cell_type": "markdown",
   "metadata": {},
   "source": [
    "#### Mean power per m², that has to be radiated to space"
   ]
  },
  {
   "cell_type": "code",
   "execution_count": 5,
   "metadata": {},
   "outputs": [
    {
     "name": "stdout",
     "output_type": "stream",
     "text": [
      "P_0 = 2.39e+02 watt / meter ** 2\n"
     ]
    }
   ],
   "source": [
    "P_0 = AC/AE * Sc * (1.0 - a)\n",
    "\n",
    "print(\"P_0 = {:.2e}\".format((P_0).to(\"W/m**2\")))"
   ]
  },
  {
   "cell_type": "markdown",
   "metadata": {},
   "source": [
    "#### Mean Surface Temperature\n",
    "Without green house effect the mean surface temperature would be:\n",
    "\n",
    "$T_0 = (P_0/σ)^{(1/4)}$"
   ]
  },
  {
   "cell_type": "code",
   "execution_count": 6,
   "metadata": {},
   "outputs": [
    {
     "name": "stdout",
     "output_type": "stream",
     "text": [
      "T_0 = 2.55e+02 kelvin\n"
     ]
    }
   ],
   "source": [
    "T_0 = (P_0/u_σ)**(1/4)\n",
    "print(\"T_0 = {:.2e}\".format((T_0).to(\"K\")))"
   ]
  },
  {
   "cell_type": "markdown",
   "metadata": {},
   "source": [
    "#### Assumption\n",
    "\n",
    "Part b of the surface A is at temperature $T_h$ and the rest of the surface (1-b) at $T_l$"
   ]
  },
  {
   "cell_type": "code",
   "execution_count": 7,
   "metadata": {},
   "outputs": [],
   "source": [
    "b = 0.25"
   ]
  },
  {
   "cell_type": "markdown",
   "metadata": {},
   "source": [
    "If all the power is emitted from the part b the temperature $T_{max}$ has to be:"
   ]
  },
  {
   "cell_type": "code",
   "execution_count": 8,
   "metadata": {},
   "outputs": [
    {
     "name": "stdout",
     "output_type": "stream",
     "text": [
      "I_max = 9.57e+02 watt / meter ** 2\n",
      "T_max = 3.60e+02 kelvin\n"
     ]
    }
   ],
   "source": [
    "I_max = AC/(b*AE) * Sc * (1.0 - a)\n",
    "T_max = (I_max/u_σ)**(1/4)\n",
    "print(\"I_max = {:.2e}\".format((I_max).to(\"W/m**2\")))\n",
    "print(\"T_max = {:.2e}\".format((T_max).to(\"K\")))"
   ]
  },
  {
   "cell_type": "code",
   "execution_count": 9,
   "metadata": {},
   "outputs": [
    {
     "data": {
      "text/html": [
       "956.9 watt/meter<sup>2</sup>"
      ],
      "text/latex": [
       "$956.9\\ \\frac{\\mathrm{watt}}{\\mathrm{meter}^{2}}$"
      ],
      "text/plain": [
       "956.9 <Unit('watt / meter ** 2')>"
      ]
     },
     "execution_count": 9,
     "metadata": {},
     "output_type": "execute_result"
    }
   ],
   "source": [
    "I_max"
   ]
  },
  {
   "cell_type": "markdown",
   "metadata": {},
   "source": [
    "The temperature $T_h$ of the hotter part of the surface is assumed to be in the range $[T_0, T_{max}]$ :"
   ]
  },
  {
   "cell_type": "code",
   "execution_count": 10,
   "metadata": {},
   "outputs": [],
   "source": [
    "T_h  = mgrid[T_0:T_max:200j]"
   ]
  },
  {
   "cell_type": "markdown",
   "metadata": {},
   "source": [
    "The power emitted by the hot part is:"
   ]
  },
  {
   "cell_type": "code",
   "execution_count": 11,
   "metadata": {},
   "outputs": [],
   "source": [
    "P_h  = u_σ * T_h**4 * b"
   ]
  },
  {
   "cell_type": "markdown",
   "metadata": {},
   "source": [
    "Power that has to emitted by the lower temperature part of the earth's surface:"
   ]
  },
  {
   "cell_type": "code",
   "execution_count": 12,
   "metadata": {},
   "outputs": [],
   "source": [
    "P_l  = P_0 - P_h\n",
    "P_l  = where(P_l >= 0.0, P_l, 0.0)"
   ]
  },
  {
   "cell_type": "markdown",
   "metadata": {},
   "source": [
    "The lower temperature $T_l$ is:"
   ]
  },
  {
   "cell_type": "code",
   "execution_count": 13,
   "metadata": {},
   "outputs": [],
   "source": [
    "T_l  = (P_l/u_σ/(1-b))**(1/4)  "
   ]
  },
  {
   "cell_type": "markdown",
   "metadata": {},
   "source": [
    "the power $P_h$ radiated by the hotter part:"
   ]
  },
  {
   "cell_type": "code",
   "execution_count": 14,
   "metadata": {},
   "outputs": [],
   "source": [
    "P_h  = u_σ * T_h**4 * (1-b)"
   ]
  },
  {
   "cell_type": "markdown",
   "metadata": {},
   "source": [
    "The mean temperature is given by:"
   ]
  },
  {
   "cell_type": "code",
   "execution_count": 15,
   "metadata": {},
   "outputs": [],
   "source": [
    "T_m = T_h * b + T_l* (1-b)"
   ]
  },
  {
   "cell_type": "code",
   "execution_count": 16,
   "metadata": {},
   "outputs": [
    {
     "data": {
      "text/plain": [
       "<matplotlib.legend.Legend at 0x7f44b86ffca0>"
      ]
     },
     "execution_count": 16,
     "metadata": {},
     "output_type": "execute_result"
    },
    {
     "data": {
      "image/png": "[encoded data removed]",
      "text/plain": [
       "<Figure size 640x480 with 1 Axes>"
      ]
     },
     "metadata": {},
     "output_type": "display_data"
    }
   ],
   "source": [
    "plt.plot(val(T_h), val(T_l), 'r', label=\"T_l\")\n",
    "plt.plot(val(T_h), val(T_m), 'b', label=\"mean temperature\")\n",
    "plt.xlabel(\"T_h [K]\")\n",
    "plt.ylabel(\"temperature [K]\")\n",
    "plt.legend(loc = 'best')"
   ]
  },
  {
   "cell_type": "markdown",
   "metadata": {},
   "source": [
    "The result shows that the mean temperature is highest when the temperature is asumed to be homogeneously distributed over the earth's surface."
   ]
  },
  {
   "cell_type": "markdown",
   "metadata": {},
   "source": [
    "## Mean Temperature\n",
    "\n",
    "The mean surface temperature is determined to be $T_{earth} = 288 K$. The power per $m^2$ radiated by a surface at $T_{earth}$ is according to the Stefan-Boltzmann law: "
   ]
  },
  {
   "cell_type": "code",
   "execution_count": 17,
   "metadata": {},
   "outputs": [
    {
     "name": "stdout",
     "output_type": "stream",
     "text": [
      "P_rad = 3.90e+02 watt / meter ** 2\n"
     ]
    }
   ],
   "source": [
    "T_earth = 288.0 * u.K\n",
    "P_rad = u_σ * T_earth**4\n",
    "print(\"P_rad = {:.2e}\".format((P_rad).to(\"W/m**2\")))"
   ]
  },
  {
   "cell_type": "markdown",
   "metadata": {},
   "source": [
    "The power that is blocked by the atmosphere is then given by $P_{blocked} = P_{rad} - P_0$: "
   ]
  },
  {
   "cell_type": "code",
   "execution_count": 18,
   "metadata": {},
   "outputs": [
    {
     "name": "stdout",
     "output_type": "stream",
     "text": [
      "P_blocked = 1.51e+02 watt / meter ** 2\n"
     ]
    }
   ],
   "source": [
    "P_blocked = P_rad - P_0\n",
    "print(\"P_blocked = {:.2e}\".format((P_blocked).to(\"W/m**2\")))"
   ]
  }
 ],
 "metadata": {
  "kernelspec": {
   "display_name": "Python 3 (ipykernel)",
   "language": "python",
   "name": "python3"
  },
  "language_info": {
   "codemirror_mode": {
    "name": "ipython",
    "version": 3
   },
   "file_extension": ".py",
   "mimetype": "text/x-python",
   "name": "python",
   "nbconvert_exporter": "python",
   "pygments_lexer": "ipython3",
   "version": "3.10.8"
  },
  "varInspector": {
   "cols": {
    "lenName": 16,
    "lenType": 16,
    "lenVar": 40
   },
   "kernels_config": {
    "python": {
     "delete_cmd_postfix": "",
     "delete_cmd_prefix": "del ",
     "library": "var_list.py",
     "varRefreshCmd": "print(var_dic_list())"
    },
    "r": {
     "delete_cmd_postfix": ") ",
     "delete_cmd_prefix": "rm(",
     "library": "var_list.r",
     "varRefreshCmd": "cat(var_dic_list()) "
    }
   },
   "types_to_exclude": [
    "module",
    "function",
    "builtin_function_or_method",
    "instance",
    "_Feature"
   ],
   "window_display": false
  }
 },
 "nbformat": 4,
 "nbformat_minor": 4
}
