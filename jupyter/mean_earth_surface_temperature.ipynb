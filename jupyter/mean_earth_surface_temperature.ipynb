{
 "cells": [
  {
   "cell_type": "code",
   "execution_count": 11,
   "metadata": {},
   "outputs": [],
   "source": [
    "from numpy import *\n",
    "from pylab import plt"
   ]
  },
  {
   "cell_type": "markdown",
   "metadata": {},
   "source": [
    "### Physical Constants"
   ]
  },
  {
   "cell_type": "code",
   "execution_count": 12,
   "metadata": {},
   "outputs": [],
   "source": [
    "σ  = 5.67e-8              # W/m²/K⁴ Stefan-Boltzman constant\n",
    "T0 = 273.16               # K       0 = C\n",
    "Sc = 1367.0               # W / m²  solar constant"
   ]
  },
  {
   "cell_type": "markdown",
   "metadata": {},
   "source": [
    "### Stefan-Boltzmann Law"
   ]
  },
  {
   "cell_type": "code",
   "execution_count": 13,
   "metadata": {},
   "outputs": [],
   "source": [
    "def SB_P(T):\n",
    "    \"\"\"P(T)\"\"\"\n",
    "    return SB * T**4\n",
    "\n",
    "def SB_T(P):\n",
    "    \"\"\"T(P)\"\"\"\n",
    "    T2 = sqrt(P/SB)\n",
    "    T4 = sqrt(T2)\n",
    "    return T4"
   ]
  },
  {
   "cell_type": "markdown",
   "metadata": {},
   "source": [
    "### Earth Data"
   ]
  },
  {
   "cell_type": "code",
   "execution_count": 14,
   "metadata": {},
   "outputs": [],
   "source": [
    "RE = 6371028.6            # m       earth radius\n",
    "AE = 4.0 * pi * RE**2     # m^2     earth surface\n",
    "AC = pi * RE**2           # m^2     earth cross section\n",
    "a  = 0.3                  #         aerth albedo"
   ]
  },
  {
   "cell_type": "markdown",
   "metadata": {},
   "source": [
    "#### Mean power per m², that has to be radiated to space"
   ]
  },
  {
   "cell_type": "code",
   "execution_count": 15,
   "metadata": {},
   "outputs": [
    {
     "name": "stdout",
     "output_type": "stream",
     "text": [
      "P_0 = 239.22 W/m²\n"
     ]
    }
   ],
   "source": [
    "P_0 = AC/AE * Sc * (1.0 - a)\n",
    "print(\"P_0 = %5.2f W/m²\" % (P_0))"
   ]
  },
  {
   "cell_type": "markdown",
   "metadata": {},
   "source": [
    "#### Mean Surface Temperature\n",
    "Without green house effect the mean surface temperature would be:\n",
    "\n",
    "$T_0 = (P_0/σ)^{(1/4)}$"
   ]
  },
  {
   "cell_type": "code",
   "execution_count": 16,
   "metadata": {},
   "outputs": [
    {
     "name": "stdout",
     "output_type": "stream",
     "text": [
      "T_0 = 254.86 K\n"
     ]
    }
   ],
   "source": [
    "T_0 = (P_0/σ)**(1/4)\n",
    "print(\"T_0 = %5.2f K\" % (T_0))"
   ]
  },
  {
   "cell_type": "markdown",
   "metadata": {},
   "source": [
    "#### Assumption\n",
    "\n",
    "A given part b of the surface is at temperature $T_h$ and the rest of the surface (1-b) at $T_l$"
   ]
  },
  {
   "cell_type": "code",
   "execution_count": 17,
   "metadata": {},
   "outputs": [],
   "source": [
    "b = 0.25"
   ]
  },
  {
   "cell_type": "markdown",
   "metadata": {},
   "source": [
    "If all the power is emitted from the part b the temperature $T_{max}$ has to be:"
   ]
  },
  {
   "cell_type": "code",
   "execution_count": 18,
   "metadata": {},
   "outputs": [
    {
     "name": "stdout",
     "output_type": "stream",
     "text": [
      "P_max = 956.90 W/m²\n",
      "T_max = 360.43 K\n"
     ]
    }
   ],
   "source": [
    "P_max = AC/(b*AE) * Sc * (1.0 - a)\n",
    "T_max = (P_max/σ)**(1/4)\n",
    "print(\"P_max = %5.2f W/m²\" % (P_max))\n",
    "print(\"T_max = %5.2f K\" % (T_max))"
   ]
  },
  {
   "cell_type": "markdown",
   "metadata": {},
   "source": [
    "The temperature $T_h$ of the hotter part of the surface is assumed to be in the range $[T_0, T_{max}]$ :"
   ]
  },
  {
   "cell_type": "code",
   "execution_count": 19,
   "metadata": {},
   "outputs": [],
   "source": [
    "T_h  = mgrid[T_0:T_max:200j]"
   ]
  },
  {
   "cell_type": "markdown",
   "metadata": {},
   "source": [
    "The power emitted by the hot part is:"
   ]
  },
  {
   "cell_type": "code",
   "execution_count": 32,
   "metadata": {},
   "outputs": [],
   "source": [
    "P_h  = σ * T_h**4 * b"
   ]
  },
  {
   "cell_type": "markdown",
   "metadata": {},
   "source": [
    "Power that has to emitted by the lower temperature part of the earth's surface:"
   ]
  },
  {
   "cell_type": "code",
   "execution_count": 37,
   "metadata": {},
   "outputs": [],
   "source": [
    "P_l  = P_0 - P_h\n",
    "P_l  = where(P_l >= 0.0, P_l, 0.0)"
   ]
  },
  {
   "cell_type": "markdown",
   "metadata": {},
   "source": [
    "The lower temperature $T_l$ is:"
   ]
  },
  {
   "cell_type": "code",
   "execution_count": 38,
   "metadata": {},
   "outputs": [],
   "source": [
    "T_l  = (P_l/σ/(1-b))**(1/4)  "
   ]
  },
  {
   "cell_type": "markdown",
   "metadata": {},
   "source": [
    "the power $P_h$ radiated by the hotter part:"
   ]
  },
  {
   "cell_type": "code",
   "execution_count": 39,
   "metadata": {},
   "outputs": [],
   "source": [
    "P_h  = σ * T_h**4 * (1-b)"
   ]
  },
  {
   "cell_type": "markdown",
   "metadata": {},
   "source": [
    "The mean temperature is given by:"
   ]
  },
  {
   "cell_type": "code",
   "execution_count": 35,
   "metadata": {},
   "outputs": [],
   "source": [
    "T_m = T_h * b + T_c * (1-b)"
   ]
  },
  {
   "cell_type": "code",
   "execution_count": 36,
   "metadata": {},
   "outputs": [
    {
     "data": {
      "text/plain": [
       "<matplotlib.legend.Legend at 0x7f85afb09c18>"
      ]
     },
     "execution_count": 36,
     "metadata": {},
     "output_type": "execute_result"
    },
    {
     "data": {
      "image/png": "[encoded data removed]",
      "text/plain": [
       "<Figure size 432x288 with 1 Axes>"
      ]
     },
     "metadata": {
      "needs_background": "light"
     },
     "output_type": "display_data"
    }
   ],
   "source": [
    "plt.plot(T_h, T_l, 'r', label=\"T_l\")\n",
    "plt.plot(T_h, T_m, 'b', label=\"mean temperature\")\n",
    "plt.xlabel(\"T_h [K]\")\n",
    "plt.ylabel(\"temperature [K]\")\n",
    "plt.legend(loc = 'best')"
   ]
  },
  {
   "cell_type": "markdown",
   "metadata": {},
   "source": [
    "The result shows that the mean temperature is highest when the temperature is asumed to be homogeneously distributed over the earth's surface."
   ]
  },
  {
   "cell_type": "markdown",
   "metadata": {},
   "source": [
    "## Mean Temperature\n",
    "\n",
    "The mean surface temperature is determined to be $288 K$."
   ]
  },
  {
   "cell_type": "code",
   "execution_count": 34,
   "metadata": {},
   "outputs": [
    {
     "name": "stdout",
     "output_type": "stream",
     "text": [
      "P_rad = 390.079 W/m²\n",
      "P_ath = 150.854 W/m²\n"
     ]
    }
   ],
   "source": [
    "T_earth = 288.0          # K mean - measured surface temerature of the earth\n",
    "P_rad = σ * T_earth**4   # W/m²   - mean emitted power\n",
    "P_ath = P_rad - P_0      # power that is blocked by the athmosphere\n",
    "\n",
    "print(\"P_rad = %5.3f W/m²\" % P_rad)\n",
    "print(\"P_ath = %5.3f W/m²\" % P_ath)"
   ]
  },
  {
   "cell_type": "code",
   "execution_count": null,
   "metadata": {},
   "outputs": [],
   "source": []
  }
 ],
 "metadata": {
  "kernelspec": {
   "display_name": "Python 3",
   "language": "python",
   "name": "python3"
  },
  "language_info": {
   "codemirror_mode": {
    "name": "ipython",
    "version": 3
   },
   "file_extension": ".py",
   "mimetype": "text/x-python",
   "name": "python",
   "nbconvert_exporter": "python",
   "pygments_lexer": "ipython3",
   "version": "3.7.3"
  },
  "varInspector": {
   "cols": {
    "lenName": 16,
    "lenType": 16,
    "lenVar": 40
   },
   "kernels_config": {
    "python": {
     "delete_cmd_postfix": "",
     "delete_cmd_prefix": "del ",
     "library": "var_list.py",
     "varRefreshCmd": "print(var_dic_list())"
    },
    "r": {
     "delete_cmd_postfix": ") ",
     "delete_cmd_prefix": "rm(",
     "library": "var_list.r",
     "varRefreshCmd": "cat(var_dic_list()) "
    }
   },
   "types_to_exclude": [
    "module",
    "function",
    "builtin_function_or_method",
    "instance",
    "_Feature"
   ],
   "window_display": false
  }
 },
 "nbformat": 4,
 "nbformat_minor": 2
}
